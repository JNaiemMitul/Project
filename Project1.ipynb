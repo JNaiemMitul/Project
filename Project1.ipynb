{
  "nbformat": 4,
  "nbformat_minor": 0,
  "metadata": {
    "colab": {
      "provenance": []
    },
    "kernelspec": {
      "name": "python3",
      "display_name": "Python 3"
    },
    "language_info": {
      "name": "python"
    }
  },
  "cells": [
    {
      "cell_type": "code",
      "execution_count": 1,
      "metadata": {
        "colab": {
          "base_uri": "https://localhost:8080/"
        },
        "id": "dOzKD7t9qrzn",
        "outputId": "b85e8ef1-df82-4969-862c-4c065fa87545"
      },
      "outputs": [
        {
          "output_type": "stream",
          "name": "stdout",
          "text": [
            "Sample data has been written to 'students_performance.csv'.\n"
          ]
        }
      ],
      "source": [
        "import csv\n",
        "\n",
        "# Sample data for students\n",
        "students_data = [\n",
        "    [\"Student Name\", \"Student ID\", \"Subject\", \"Score\", \"Attendance Percentage\", \"Assignment Completion\"],\n",
        "    [\"jannatul\", \"S001\", \"Math\", \"85\", \"80\", \"Yes\"],\n",
        "    [\"naiem\", \"S002\", \"Science\", \"92\", \"60\", \"Yes\"],\n",
        "    [\"mitul\", \"S003\", \"History\", \"78\", \"90\", \"No\"],\n",
        "    [\"ibtida\", \"S004\", \"Math\", \"65\", \"70\", \"Yes\"]\n",
        "]\n",
        "\n",
        "# Write to a CSV file\n",
        "with open('students_performance.csv', mode='w', newline='') as file:\n",
        "    writer = csv.writer(file)\n",
        "    writer.writerows(students_data)\n",
        "\n",
        "print(\"Sample data has been written to 'students_performance.csv'.\")\n"
      ]
    },
    {
      "cell_type": "code",
      "source": [
        "# Read and print the entire CSV file\n",
        "with open('students_performance.csv', mode='r') as file:\n",
        "    reader = csv.reader(file)\n",
        "    for row in reader:\n",
        "        print(row)"
      ],
      "metadata": {
        "colab": {
          "base_uri": "https://localhost:8080/"
        },
        "id": "AkaSxtE_rZvq",
        "outputId": "a381300c-ffa8-4c72-bdfa-4872e1c22d1c"
      },
      "execution_count": 2,
      "outputs": [
        {
          "output_type": "stream",
          "name": "stdout",
          "text": [
            "['Student Name', 'Student ID', 'Subject', 'Score', 'Attendance Percentage', 'Assignment Completion']\n",
            "['jannatul', 'S001', 'Math', '85', '80', 'Yes']\n",
            "['naiem', 'S002', 'Science', '92', '60', 'Yes']\n",
            "['mitul', 'S003', 'History', '78', '90', 'No']\n",
            "['ibtida', 'S004', 'Math', '65', '70', 'Yes']\n"
          ]
        }
      ]
    },
    {
      "cell_type": "code",
      "source": [
        "import csv\n",
        "\n",
        "# Read the existing CSV file\n",
        "students = []\n",
        "with open('students_performance.csv', mode='r') as file:\n",
        "    reader = csv.DictReader(file)\n",
        "    for row in reader:\n",
        "        students.append(row)\n",
        "\n",
        "# Modify or update some data (For example, updating score and attendance)\n",
        "# Let's say we want to update John Doe's score and attendance percentage\n",
        "\n",
        "for student in students:\n",
        "    if student['Student Name'] == \"jannatul\":  # Find the student\n",
        "        student['Score'] = 90  # Update score\n",
        "        student['Attendance Percentage'] = 85  # Update attendance percentage\n",
        "\n",
        "# Write the modified data to a new CSV file\n",
        "with open('students_performance_modified.csv', mode='w', newline='') as file:\n",
        "    fieldnames = ['Student Name', 'Student ID', 'Subject', 'Score', 'Attendance Percentage', 'Assignment Completion']\n",
        "    writer = csv.DictWriter(file, fieldnames=fieldnames)\n",
        "\n",
        "    # Write header\n",
        "    writer.writeheader()\n",
        "\n",
        "    # Write modified data\n",
        "    writer.writerows(students)\n",
        "\n",
        "print(\"Modified data has been written to 'students_performance_modified.csv'.\")\n"
      ],
      "metadata": {
        "colab": {
          "base_uri": "https://localhost:8080/"
        },
        "id": "fwVJ33nWri7f",
        "outputId": "47cc6523-3178-4478-d3bb-f9e596d9e738"
      },
      "execution_count": null,
      "outputs": [
        {
          "output_type": "stream",
          "name": "stdout",
          "text": [
            "Modified data has been written to 'students_performance_modified.csv'.\n"
          ]
        }
      ]
    },
    {
      "cell_type": "code",
      "source": [
        "# Read and print the entire CSV file\n",
        "with open('students_performance_modified.csv', mode='r') as file:\n",
        "    reader = csv.reader(file)\n",
        "    for row in reader:\n",
        "        print(row)"
      ],
      "metadata": {
        "colab": {
          "base_uri": "https://localhost:8080/"
        },
        "id": "udHlg-R3sxKY",
        "outputId": "e800b40d-c193-4b68-a6fa-00020d3dc9c2"
      },
      "execution_count": null,
      "outputs": [
        {
          "output_type": "stream",
          "name": "stdout",
          "text": [
            "['Student Name', 'Student ID', 'Subject', 'Score', 'Attendance Percentage', 'Assignment Completion']\n",
            "['jannatul', 'S001', 'Math', '90', '85', 'Yes']\n",
            "['naiem', 'S002', 'Science', '92', '60', 'Yes']\n",
            "['mitul', 'S003', 'History', '78', '90', 'No']\n",
            "['ibtida', 'S004', 'Math', '65', '70', 'Yes']\n"
          ]
        }
      ]
    },
    {
      "cell_type": "code",
      "source": [
        "# Reading data and converting to a list of dictionaries\n",
        "students = []\n",
        "with open('students_performance.csv', mode='r') as file:\n",
        "    reader = csv.DictReader(file)\n",
        "    for row in reader:\n",
        "        students.append(row)\n",
        "\n",
        "# Convert Scores to integers\n",
        "for student in students:\n",
        "    student['Score'] = int(student['Score'])\n",
        "    student['Attendance Percentage'] = int(student['Attendance Percentage'])\n",
        "\n",
        "# Function to calculate average score per student\n",
        "def calculate_average_score(student_data):\n",
        "    total_score = sum([student['Score'] for student in student_data])\n",
        "    return total_score / len(student_data)\n",
        "\n",
        "# Filter students failing in Math\n",
        "failing_students = [student for student in students if student['Subject'] == 'Math' and student['Score'] < 70]\n",
        "\n",
        "# Identify students with attendance < 75% or missing assignments\n",
        "attendance_issues = [student for student in students if int(student['Attendance Percentage']) < 75 or student['Assignment Completion'] == 'No']\n",
        "\n",
        "# Print analysis results\n",
        "print(\"Average Score:\", calculate_average_score(students))\n",
        "print(\"Failing Students in Math:\", failing_students)\n",
        "print(\"Students with Attendance Issues or Missing Assignments:\", attendance_issues)\n"
      ],
      "metadata": {
        "colab": {
          "base_uri": "https://localhost:8080/"
        },
        "id": "BNGPc521uDn_",
        "outputId": "a4e75cf2-8f2b-4bd6-cf7c-d2905b7b0a09"
      },
      "execution_count": null,
      "outputs": [
        {
          "output_type": "stream",
          "name": "stdout",
          "text": [
            "Average Score: 80.0\n",
            "Failing Students in Math: [{'Student Name': 'ibtida', 'Student ID': 'S004', 'Subject': 'Math', 'Score': 65, 'Attendance Percentage': 70, 'Assignment Completion': 'Yes'}]\n",
            "Students with Attendance Issues or Missing Assignments: [{'Student Name': 'naiem', 'Student ID': 'S002', 'Subject': 'Science', 'Score': 92, 'Attendance Percentage': 60, 'Assignment Completion': 'Yes'}, {'Student Name': 'mitul', 'Student ID': 'S003', 'Subject': 'History', 'Score': 78, 'Attendance Percentage': 90, 'Assignment Completion': 'No'}, {'Student Name': 'ibtida', 'Student ID': 'S004', 'Subject': 'Math', 'Score': 65, 'Attendance Percentage': 70, 'Assignment Completion': 'Yes'}]\n"
          ]
        }
      ]
    },
    {
      "cell_type": "code",
      "source": [
        "# Function to determine grade based on score\n",
        "def determine_grade(score):\n",
        "    if score >= 90:\n",
        "        return 'A'\n",
        "    elif score >= 80:\n",
        "        return 'B'\n",
        "    elif score >= 70:\n",
        "        return 'C'\n",
        "    else:\n",
        "        return 'Fail'\n",
        "\n",
        "\n",
        "# Generate performance reports\n",
        "def generate_report(student):\n",
        "    grade = determine_grade(student['Score'])\n",
        "    return f\"Student: {student['Student Name']} ({student['Student ID']})\\nSubject: {student['Subject']}\\nScore: {student['Score']}\\nAttendance: {student['Attendance Percentage']}%\\nAssignment Completed: {student['Assignment Completion']}\\nGrade: {grade}\\n\"\n",
        "\n",
        "# Generate and print reports for all students\n",
        "for student in students:\n",
        "    print(generate_report(student))\n",
        "    print(\"-\" * 50)\n"
      ],
      "metadata": {
        "colab": {
          "base_uri": "https://localhost:8080/"
        },
        "id": "OKyQAvykvFBB",
        "outputId": "6d7217a8-b135-4288-d7ae-fee953470e92"
      },
      "execution_count": null,
      "outputs": [
        {
          "output_type": "stream",
          "name": "stdout",
          "text": [
            "Student: jannatul (S001)\n",
            "Subject: Math\n",
            "Score: 85\n",
            "Attendance: 80%\n",
            "Assignment Completed: Yes\n",
            "Grade: B\n",
            "\n",
            "--------------------------------------------------\n",
            "Student: naiem (S002)\n",
            "Subject: Science\n",
            "Score: 92\n",
            "Attendance: 60%\n",
            "Assignment Completed: Yes\n",
            "Grade: A\n",
            "\n",
            "--------------------------------------------------\n",
            "Student: mitul (S003)\n",
            "Subject: History\n",
            "Score: 78\n",
            "Attendance: 90%\n",
            "Assignment Completed: No\n",
            "Grade: C\n",
            "\n",
            "--------------------------------------------------\n",
            "Student: ibtida (S004)\n",
            "Subject: Math\n",
            "Score: 65\n",
            "Attendance: 70%\n",
            "Assignment Completed: Yes\n",
            "Grade: Fail\n",
            "\n",
            "--------------------------------------------------\n"
          ]
        }
      ]
    },
    {
      "cell_type": "code",
      "source": [
        "\n",
        "# Function to write the updated data back to CSV (fix the issue here)\n",
        "def write_to_csv(students):\n",
        "    with open('students_performance.csv', mode='w', newline='') as file:\n",
        "        fieldnames = ['Student Name', 'Student ID', 'Subject', 'Score', 'Attendance Percentage', 'Assignment Completion']\n",
        "        writer = csv.DictWriter(file, fieldnames=fieldnames)\n",
        "\n",
        "        writer.writeheader()\n",
        "\n",
        "        # Only write rows that have the exact fieldnames\n",
        "        for student in students:\n",
        "            # Remove any extra fields that might have been added (like 'Aggregate Score')\n",
        "            filtered_student = {key: student[key] for key in fieldnames if key in student}\n",
        "            writer.writerow(filtered_student)\n",
        "# Function to add a new student\n",
        "def add_student():\n",
        "    name = input(\"Enter Student Name: \")\n",
        "    student_id = input(\"Enter Student ID: \")\n",
        "    subject = input(\"Enter Subject: \")\n",
        "    score = int(input(\"Enter Score: \"))\n",
        "    attendance = int(input(\"Enter Attendance Percentage: \"))\n",
        "    assignment = input(\"Assignment Completed (Yes/No): \")\n",
        "\n",
        "    new_student = {\n",
        "        \"Student Name\": name,\n",
        "        \"Student ID\": student_id,\n",
        "        \"Subject\": subject,\n",
        "        \"Score\": score,\n",
        "        \"Attendance Percentage\": attendance,\n",
        "        \"Assignment Completion\": assignment\n",
        "    }\n",
        "\n",
        "    students.append(new_student)\n",
        "    write_to_csv(students)  # Function to save the updated list to the CSV file\n",
        "    print(f\"New student {name} added successfully!\")\n",
        "\n",
        "# Function to search for a student by name or ID\n",
        "def search_student():\n",
        "    search_type = input(\"Search by (1) Name or (2) ID: \")\n",
        "\n",
        "    if search_type == \"1\":\n",
        "        name = input(\"Enter Student Name: \")\n",
        "        student = next((s for s in students if s['Student Name'] == name), None)\n",
        "    elif search_type == \"2\":\n",
        "        student_id = input(\"Enter Student ID: \")\n",
        "        student = next((s for s in students if s['Student ID'] == student_id), None)\n",
        "\n",
        "    if student:\n",
        "        print(generate_report(student))\n",
        "    else:\n",
        "        print(\"Student not found.\")\n",
        "\n",
        "# Function to update a student's score or attendance\n",
        "def update_student():\n",
        "    student_id = input(\"Enter Student ID to update: \")\n",
        "    student = next((s for s in students if s['Student ID'] == student_id), None)\n",
        "\n",
        "    if student:\n",
        "        print(f\"Found student: {student['Student Name']}\")\n",
        "        update_choice = input(\"Do you want to update (1) Score or (2) Attendance: \")\n",
        "\n",
        "        if update_choice == \"1\":\n",
        "            new_score = int(input(f\"Enter new score for {student['Student Name']}: \"))\n",
        "            student['Score'] = new_score\n",
        "        elif update_choice == \"2\":\n",
        "            new_attendance = int(input(f\"Enter new attendance percentage for {student['Student Name']}: \"))\n",
        "            student['Attendance Percentage'] = new_attendance\n",
        "        else:\n",
        "            print(\"Invalid choice.\")\n",
        "            return\n",
        "\n",
        "        write_to_csv(students)  # Save updated data to CSV\n",
        "        print(f\"{student['Student Name']}'s data has been updated.\")\n",
        "    else:\n",
        "        print(\"Student not found.\")\n",
        "\n",
        "\n",
        "# Main function to interact with the user\n",
        "def main():\n",
        "    while True:\n",
        "        print(\"\\n1. Add Student\\n2. Search Student\\n3. Update Student\\n4. Exit\")\n",
        "        choice = input(\"Choose an option: \")\n",
        "\n",
        "        if choice == \"1\":\n",
        "            add_student()\n",
        "        elif choice == \"2\":\n",
        "            search_student()\n",
        "        elif choice == \"3\":\n",
        "            update_student()\n",
        "        elif choice == \"4\":\n",
        "            print(\"Exiting program...\")\n",
        "            break\n",
        "        else:\n",
        "            print(\"Invalid option. Please try again.\")\n",
        "\n",
        "if __name__ == \"__main__\":\n",
        "    main()\n"
      ],
      "metadata": {
        "colab": {
          "base_uri": "https://localhost:8080/"
        },
        "id": "gijesKWEz0K8",
        "outputId": "9ecf5619-c800-4a2b-903d-963c877c0156"
      },
      "execution_count": null,
      "outputs": [
        {
          "output_type": "stream",
          "name": "stdout",
          "text": [
            "\n",
            "1. Add Student\n",
            "2. Search Student\n",
            "3. Update Student\n",
            "4. Exit\n",
            "Choose an option: 4\n",
            "Exiting program...\n"
          ]
        }
      ]
    },
    {
      "cell_type": "code",
      "source": [],
      "metadata": {
        "id": "8dSr5jka1-gw"
      },
      "execution_count": null,
      "outputs": []
    }
  ]
}